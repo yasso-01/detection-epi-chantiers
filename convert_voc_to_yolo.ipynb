{
 "cells": [
  {
   "cell_type": "code",
   "execution_count": 1,
   "id": "628f41a9",
   "metadata": {},
   "outputs": [
    {
     "name": "stdout",
     "output_type": "stream",
     "text": [
      "✅ Conversion terminée. Les fichiers .txt ont été créés dans /labels.\n"
     ]
    }
   ],
   "source": [
    "import os\n",
    "import xml.etree.ElementTree as ET\n",
    "from PIL import Image\n",
    "\n",
    "# Dossiers\n",
    "ANNOTATIONS_DIR = 'annotations'\n",
    "IMAGES_DIR = 'images'\n",
    "YOLO_LABELS_DIR = 'labels'\n",
    "os.makedirs(YOLO_LABELS_DIR, exist_ok=True)\n",
    "\n",
    "# Classes à détecter\n",
    "CLASSES = ['person', 'helmet', 'vest']\n",
    "\n",
    "def convert(size, box):\n",
    "    dw = 1. / size[0]\n",
    "    dh = 1. / size[1]\n",
    "    x = (box[0] + box[2]) / 2.0\n",
    "    y = (box[1] + box[3]) / 2.0\n",
    "    w = box[2] - box[0]\n",
    "    h = box[3] - box[1]\n",
    "    return (x * dw, y * dh, w * dw, h * dh)\n",
    "\n",
    "for file in os.listdir(ANNOTATIONS_DIR):\n",
    "    if not file.endswith(\".xml\"):\n",
    "        continue\n",
    "\n",
    "    tree = ET.parse(os.path.join(ANNOTATIONS_DIR, file))\n",
    "    root = tree.getroot()\n",
    "    image_name = root.find('filename').text\n",
    "    image_path = os.path.join(IMAGES_DIR, image_name)\n",
    "    image = Image.open(image_path)\n",
    "    w, h = image.size\n",
    "\n",
    "    yolo_filename = os.path.splitext(image_name)[0] + \".txt\"\n",
    "    yolo_path = os.path.join(YOLO_LABELS_DIR, yolo_filename)\n",
    "\n",
    "    with open(yolo_path, 'w') as f:\n",
    "        for obj in root.findall('object'):\n",
    "            cls = obj.find('name').text\n",
    "            if cls not in CLASSES:\n",
    "                continue\n",
    "            cls_id = CLASSES.index(cls)\n",
    "            xmlbox = obj.find('bndbox')\n",
    "            b = [int(xmlbox.find(x).text) for x in ['xmin', 'ymin', 'xmax', 'ymax']]\n",
    "            bb = convert((w, h), b)\n",
    "            f.write(f\"{cls_id} {' '.join(f'{a:.6f}' for a in bb)}\\n\")\n",
    "\n",
    "print(\"✅ Conversion terminée. Les fichiers .txt ont été créés dans /labels.\")"
   ]
  }
 ],
 "metadata": {
  "kernelspec": {
   "display_name": "venv",
   "language": "python",
   "name": "python3"
  },
  "language_info": {
   "codemirror_mode": {
    "name": "ipython",
    "version": 3
   },
   "file_extension": ".py",
   "mimetype": "text/x-python",
   "name": "python",
   "nbconvert_exporter": "python",
   "pygments_lexer": "ipython3",
   "version": "3.12.6"
  }
 },
 "nbformat": 4,
 "nbformat_minor": 5
}
