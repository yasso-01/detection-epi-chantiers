{
 "cells": [
  {
   "cell_type": "code",
   "execution_count": 3,
   "id": "c7d73a57",
   "metadata": {},
   "outputs": [
    {
     "name": "stdout",
     "output_type": "stream",
     "text": [
      "✅ Dataset divisé en train/val (80/20)\n"
     ]
    }
   ],
   "source": [
    "import os\n",
    "import shutil\n",
    "import random\n",
    "\n",
    "# Corrigé ici :\n",
    "SOURCE_IMAGES = 'images'\n",
    "SOURCE_LABELS = 'labels'  # <- c'était \"labels_full\", maintenant correct\n",
    "DEST = 'yolo_dataset'\n",
    "TRAIN_RATIO = 0.8\n",
    "\n",
    "# Créer les dossiers de sortie\n",
    "for split in ['train', 'val']:\n",
    "    os.makedirs(f'{DEST}/images/{split}', exist_ok=True)\n",
    "    os.makedirs(f'{DEST}/labels/{split}', exist_ok=True)\n",
    "\n",
    "# Sélection des images (corrigé)\n",
    "images = [f for f in os.listdir(SOURCE_IMAGES) if f.endswith(('.jpg', '.png'))]\n",
    "random.shuffle(images)\n",
    "split_index = int(len(images) * TRAIN_RATIO)\n",
    "train_images = images[:split_index]\n",
    "val_images = images[split_index:]\n",
    "\n",
    "# Fonction de copie images + labels\n",
    "def copy_files(image_list, subset):\n",
    "    for img in image_list:\n",
    "        name = os.path.splitext(img)[0]\n",
    "        shutil.copy(os.path.join(SOURCE_IMAGES, img), f'{DEST}/images/{subset}/{img}')\n",
    "        label = name + \".txt\"\n",
    "        label_path = os.path.join(SOURCE_LABELS, label)\n",
    "        if os.path.exists(label_path):\n",
    "            shutil.copy(label_path, f'{DEST}/labels/{subset}/{label}')\n",
    "        else:\n",
    "            print(f\"⚠️ Label manquant pour : {label} (image {img})\")\n",
    "\n",
    "# Exécution\n",
    "copy_files(train_images, 'train')\n",
    "copy_files(val_images, 'val')\n",
    "\n",
    "print(\"✅ Dataset divisé en train/val (80/20)\")"
   ]
  },
  {
   "cell_type": "code",
   "execution_count": null,
   "id": "d46f2bdb",
   "metadata": {},
   "outputs": [],
   "source": []
  }
 ],
 "metadata": {
  "kernelspec": {
   "display_name": "venv",
   "language": "python",
   "name": "python3"
  },
  "language_info": {
   "codemirror_mode": {
    "name": "ipython",
    "version": 3
   },
   "file_extension": ".py",
   "mimetype": "text/x-python",
   "name": "python",
   "nbconvert_exporter": "python",
   "pygments_lexer": "ipython3",
   "version": "3.12.6"
  }
 },
 "nbformat": 4,
 "nbformat_minor": 5
}
