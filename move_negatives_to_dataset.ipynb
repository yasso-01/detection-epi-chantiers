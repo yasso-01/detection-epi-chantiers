{
 "cells": [
  {
   "cell_type": "code",
   "execution_count": 1,
   "id": "68828336",
   "metadata": {},
   "outputs": [
    {
     "name": "stdout",
     "output_type": "stream",
     "text": [
      "🟢 Image copiée : image_casquette2.jpg\n",
      "🟢 Image copiée : image_casquette3.jpg\n",
      "🟢 Image copiée : image_cassquette1.png\n",
      "🟢 Image copiée : image_chapeau1.jpg\n",
      "🟢 Image copiée : image_chapeau2.jpg\n",
      "🟢 Image copiée : image_tetenue.png\n",
      "🟢 Image copiée : image_tetenue1.png\n",
      "🟣 Label vide copié : image_casquette2.txt\n",
      "🟣 Label vide copié : image_casquette3.txt\n",
      "🟣 Label vide copié : image_cassquette1.txt\n",
      "🟣 Label vide copié : image_chapeau1.txt\n",
      "🟣 Label vide copié : image_chapeau2.txt\n",
      "🟣 Label vide copié : image_tetenue.txt\n",
      "🟣 Label vide copié : image_tetenue1.txt\n",
      "✅ Tous les fichiers négatifs ont été déplacés vers le dataset d'entraînement.\n"
     ]
    }
   ],
   "source": [
    "import os\n",
    "import shutil\n",
    "\n",
    "img_src = \"negatives\"\n",
    "label_src = \"negative_labels\"\n",
    "img_dst = \"yolo_dataset/images/train\"\n",
    "label_dst = \"yolo_dataset/labels/train\"\n",
    "\n",
    "# Crée les dossiers s’ils n’existent pas\n",
    "os.makedirs(img_dst, exist_ok=True)\n",
    "os.makedirs(label_dst, exist_ok=True)\n",
    "\n",
    "# Copie les images\n",
    "for f in os.listdir(img_src):\n",
    "    if f.lower().endswith((\".jpg\", \".jpeg\", \".png\")):\n",
    "        shutil.copy(os.path.join(img_src, f), os.path.join(img_dst, f))\n",
    "        print(f\"🟢 Image copiée : {f}\")\n",
    "\n",
    "# Copie les .txt\n",
    "for f in os.listdir(label_src):\n",
    "    if f.lower().endswith(\".txt\"):\n",
    "        shutil.copy(os.path.join(label_src, f), os.path.join(label_dst, f))\n",
    "        print(f\"🟣 Label vide copié : {f}\")\n",
    "\n",
    "print(\"✅ Tous les fichiers négatifs ont été déplacés vers le dataset d'entraînement.\")"
   ]
  },
  {
   "cell_type": "code",
   "execution_count": null,
   "id": "0d7ff384",
   "metadata": {},
   "outputs": [],
   "source": []
  }
 ],
 "metadata": {
  "kernelspec": {
   "display_name": "venv",
   "language": "python",
   "name": "python3"
  },
  "language_info": {
   "codemirror_mode": {
    "name": "ipython",
    "version": 3
   },
   "file_extension": ".py",
   "mimetype": "text/x-python",
   "name": "python",
   "nbconvert_exporter": "python",
   "pygments_lexer": "ipython3",
   "version": "3.12.6"
  }
 },
 "nbformat": 4,
 "nbformat_minor": 5
}
