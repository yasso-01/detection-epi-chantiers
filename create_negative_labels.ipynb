{
 "cells": [
  {
   "cell_type": "code",
   "execution_count": 1,
   "id": "ee392e4c",
   "metadata": {},
   "outputs": [
    {
     "name": "stdout",
     "output_type": "stream",
     "text": [
      "✅ negative_labels\\image_casquette2.txt créé\n",
      "✅ negative_labels\\image_casquette3.txt créé\n",
      "✅ negative_labels\\image_cassquette1.txt créé\n",
      "✅ negative_labels\\image_chapeau1.txt créé\n",
      "✅ negative_labels\\image_chapeau2.txt créé\n",
      "✅ negative_labels\\image_tetenue.txt créé\n",
      "✅ negative_labels\\image_tetenue1.txt créé\n",
      "🎉 Tous les fichiers .txt vides sont prêts dans 'negative_labels/'\n"
     ]
    }
   ],
   "source": [
    "import os\n",
    "\n",
    "# Répertoire des images négatives\n",
    "img_dir = 'negatives'\n",
    "\n",
    "# Répertoire où créer les fichiers .txt\n",
    "txt_dir = 'negative_labels'\n",
    "os.makedirs(txt_dir, exist_ok=True)\n",
    "\n",
    "# Extensions autorisées\n",
    "valid_exts = ['.jpg', '.jpeg', '.png']\n",
    "\n",
    "# Génération des .txt vides\n",
    "for filename in os.listdir(img_dir):\n",
    "    name, ext = os.path.splitext(filename)\n",
    "    if ext.lower() in valid_exts:\n",
    "        txt_path = os.path.join(txt_dir, name + '.txt')\n",
    "        with open(txt_path, 'w') as f:\n",
    "            pass  # fichier vide\n",
    "        print(f'✅ {txt_path} créé')\n",
    "\n",
    "print(\"🎉 Tous les fichiers .txt vides sont prêts dans 'negative_labels/'\")"
   ]
  }
 ],
 "metadata": {
  "kernelspec": {
   "display_name": "venv",
   "language": "python",
   "name": "python3"
  },
  "language_info": {
   "codemirror_mode": {
    "name": "ipython",
    "version": 3
   },
   "file_extension": ".py",
   "mimetype": "text/x-python",
   "name": "python",
   "nbconvert_exporter": "python",
   "pygments_lexer": "ipython3",
   "version": "3.12.6"
  }
 },
 "nbformat": 4,
 "nbformat_minor": 5
}
